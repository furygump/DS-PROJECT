{
    "metadata": {
        "kernelspec": {
            "name": "python3",
            "display_name": "Python 3 (ipykernel)",
            "language": "python"
        },
        "language_info": {
            "name": "python",
            "version": "3.11.0",
            "mimetype": "text/x-python",
            "codemirror_mode": {
                "name": "ipython",
                "version": 3
            },
            "pygments_lexer": "ipython3",
            "nbconvert_exporter": "python",
            "file_extension": ".py"
        },
        "papermill": {
            "duration": 142.196942,
            "end_time": "2020-09-19T06:29:13.341578",
            "environment_variables": {},
            "exception": null,
            "input_path": "__notebook__.ipynb",
            "output_path": "__notebook__.ipynb",
            "parameters": {},
            "start_time": "2020-09-19T06:26:51.144636",
            "version": "2.1.0"
        },
        "vscode": {
            "interpreter": {
                "hash": "ad2bdc8ecc057115af97d19610ffacc2b4e99fae6737bb82f5d7fb13d2f2c186"
            }
        }
    },
    "nbformat_minor": 2,
    "nbformat": 4,
    "cells": [
        {
            "cell_type": "markdown",
            "source": [
                "<p style=\"text-align:center\">\n",
                "    <a href=\"https://skills.network/?utm_medium=Exinfluencer&utm_source=Exinfluencer&utm_content=000026UJ&utm_term=10006555&utm_id=NA-SkillsNetwork-Channel-SkillsNetworkCoursesIBMDS0321ENSkillsNetwork26802033-2022-01-01\" target=\"_blank\">\n",
                "    <img src=\"https://cf-courses-data.s3.us.cloud-object-storage.appdomain.cloud/assets/logos/SN_web_lightmode.png\" width=\"200\" alt=\"Skills Network Logo\"  />\n",
                "    </a>\n",
                "</p>\n"
            ],
            "metadata": {
                "azdata_cell_guid": "74b2383a-4c3d-4317-b81d-f3c60a73a140",
                "id": "3n3ltmfnrqpi",
                "outputId": "a2d4f52a-2fb7-4668-f5f0-fe862aab8eb0",
                "papermill": {
                    "duration": 1.489571,
                    "end_time": "2020-09-19T06:26:57.168979",
                    "exception": false,
                    "start_time": "2020-09-19T06:26:55.679408",
                    "status": "completed"
                },
                "tags": []
            }
        },
        {
            "cell_type": "markdown",
            "source": [
                "# **Launch Sites Locations Analysis with Folium**\n"
            ],
            "metadata": {
                "azdata_cell_guid": "91c0c0d9-3229-442d-8f62-892853b9a5ea"
            }
        },
        {
            "cell_type": "markdown",
            "source": [
                "Estimated time needed: **40** minutes\n"
            ],
            "metadata": {
                "azdata_cell_guid": "66d0bde8-4ed6-4948-8da3-d38be8ac040b"
            }
        },
        {
            "cell_type": "markdown",
            "source": [
                "The launch success rate may depend on many factors such as payload mass, orbit type, and so on. It may also depend on the location and proximities of a launch site, i.e., the initial position of rocket trajectories. Finding an optimal location for building a launch site certainly involves many factors and hopefully we could discover some of the factors by analyzing the existing launch site locations.\n"
            ],
            "metadata": {
                "azdata_cell_guid": "51221660-17ec-4e22-9509-f976253c04bc"
            }
        },
        {
            "cell_type": "markdown",
            "source": [
                "In the previous exploratory data analysis labs, you have visualized the SpaceX launch dataset using `matplotlib` and `seaborn` and discovered some preliminary correlations between the launch site and success rates. In this lab, you will be performing more interactive visual analytics using `Folium`.\n"
            ],
            "metadata": {
                "azdata_cell_guid": "dc029e37-58b4-44e0-83b8-1df2da809c16"
            }
        },
        {
            "cell_type": "markdown",
            "source": [
                "## Objectives\n"
            ],
            "metadata": {
                "azdata_cell_guid": "6cc337c9-6337-497e-9d9b-850ee2240dbf"
            }
        },
        {
            "cell_type": "markdown",
            "source": [
                "This lab contains the following tasks:\n",
                "\n",
                "*   **TASK 1:** Mark all launch sites on a map\n",
                "*   **TASK 2:** Mark the success/failed launches for each site on the map\n",
                "*   **TASK 3:** Calculate the distances between a launch site to its proximities\n",
                "\n",
                "After completed the above tasks, you should be able to find some geographical patterns about launch sites.\n"
            ],
            "metadata": {
                "azdata_cell_guid": "90c36dfb-7719-4533-af6d-398dddda9b0f"
            }
        },
        {
            "cell_type": "markdown",
            "source": [
                "Let's first import required Python packages for this lab:\n"
            ],
            "metadata": {
                "azdata_cell_guid": "64a58271-4523-448a-8272-e43a3af25afa"
            }
        },
        {
            "cell_type": "code",
            "source": [
                "!pip3 install folium\n",
                "!pip3 install wget"
            ],
            "metadata": {
                "azdata_cell_guid": "1123dd96-02f5-4ca5-aa95-ea3eb0a1ea65",
                "language": "python",
                "tags": []
            },
            "outputs": [
                {
                    "name": "stdout",
                    "text": "Requirement already satisfied: folium in c:\\users\\ilias sabani\\appdata\\local\\programs\\python\\python311\\lib\\site-packages (0.13.0)\nRequirement already satisfied: branca>=0.3.0 in c:\\users\\ilias sabani\\appdata\\local\\programs\\python\\python311\\lib\\site-packages (from folium) (0.6.0)\nRequirement already satisfied: jinja2>=2.9 in c:\\users\\ilias sabani\\appdata\\local\\programs\\python\\python311\\lib\\site-packages (from folium) (3.1.2)\nRequirement already satisfied: numpy in c:\\users\\ilias sabani\\appdata\\local\\programs\\python\\python311\\lib\\site-packages (from folium) (1.23.5)\nRequirement already satisfied: requests in c:\\users\\ilias sabani\\appdata\\local\\programs\\python\\python311\\lib\\site-packages (from folium) (2.28.1)\nRequirement already satisfied: MarkupSafe>=2.0 in c:\\users\\ilias sabani\\appdata\\local\\programs\\python\\python311\\lib\\site-packages (from jinja2>=2.9->folium) (2.1.1)\nRequirement already satisfied: charset-normalizer<3,>=2 in c:\\users\\ilias sabani\\appdata\\local\\programs\\python\\python311\\lib\\site-packages (from requests->folium) (2.1.1)\nRequirement already satisfied: idna<4,>=2.5 in c:\\users\\ilias sabani\\appdata\\local\\programs\\python\\python311\\lib\\site-packages (from requests->folium) (3.4)\nRequirement already satisfied: urllib3<1.27,>=1.21.1 in c:\\users\\ilias sabani\\appdata\\local\\programs\\python\\python311\\lib\\site-packages (from requests->folium) (1.26.13)\nRequirement already satisfied: certifi>=2017.4.17 in c:\\users\\ilias sabani\\appdata\\local\\programs\\python\\python311\\lib\\site-packages (from requests->folium) (2022.9.24)\n",
                    "output_type": "stream"
                },
                {
                    "name": "stdout",
                    "text": "Requirement already satisfied: wget in c:\\users\\ilias sabani\\appdata\\local\\programs\\python\\python311\\lib\\site-packages (3.2)\n",
                    "output_type": "stream"
                }
            ],
            "execution_count": 1
        },
        {
            "cell_type": "code",
            "source": [
                "import folium\n",
                "import wget\n",
                "import pandas as pd"
            ],
            "metadata": {
                "azdata_cell_guid": "773896fd-01bd-450a-b929-242d54e61389",
                "language": "python",
                "tags": []
            },
            "outputs": [],
            "execution_count": 3
        },
        {
            "cell_type": "code",
            "source": [
                "# Import folium MarkerCluster plugin\n",
                "from folium.plugins import MarkerCluster\n",
                "# Import folium MousePosition plugin\n",
                "from folium.plugins import MousePosition\n",
                "# Import folium DivIcon plugin\n",
                "from folium.features import DivIcon"
            ],
            "metadata": {
                "azdata_cell_guid": "ac681ec4-8666-4ba1-ae0d-ae816f0abec9",
                "language": "python"
            },
            "outputs": [],
            "execution_count": 4
        },
        {
            "cell_type": "markdown",
            "source": [
                "If you need to refresh your memory about folium, you may download and refer to this previous folium lab:\n"
            ],
            "metadata": {
                "azdata_cell_guid": "5c03f930-36c5-4e9b-8b9c-46062e304a89"
            }
        },
        {
            "cell_type": "markdown",
            "source": [
                "[Generating Maps with Python](https://cf-courses-data.s3.us.cloud-object-storage.appdomain.cloud/IBM-DS0321EN-SkillsNetwork/labs/module\\_3/DV0101EN-3-5-1-Generating-Maps-in-Python-py-v2.0.ipynb)\n"
            ],
            "metadata": {
                "azdata_cell_guid": "84d67c93-fe66-4c20-bad2-27aa6c201fcc"
            }
        },
        {
            "cell_type": "markdown",
            "source": [
                "## Task 1: Mark all launch sites on a map\n"
            ],
            "metadata": {
                "azdata_cell_guid": "04bc3400-cf04-4da3-bcf6-263279c77b07"
            }
        },
        {
            "cell_type": "markdown",
            "source": [
                "First, let's try to add each site's location on a map using site's latitude and longitude coordinates\n"
            ],
            "metadata": {
                "azdata_cell_guid": "ef8e3a74-0400-4c11-bd3b-ea6d937b9d33"
            }
        },
        {
            "cell_type": "markdown",
            "source": [
                "The following dataset with the name `spacex_launch_geo.csv` is an augmented dataset with latitude and longitude added for each site.\n"
            ],
            "metadata": {
                "azdata_cell_guid": "f0b5e258-5435-4586-9126-446b1341c47c"
            }
        },
        {
            "cell_type": "code",
            "source": [
                "# Download and read the `spacex_launch_geo.csv`\n",
                "spacex_csv_file = wget.download('https://cf-courses-data.s3.us.cloud-object-storage.appdomain.cloud/IBM-DS0321EN-SkillsNetwork/datasets/spacex_launch_geo.csv')\n",
                "spacex_df=pd.read_csv(spacex_csv_file)"
            ],
            "metadata": {
                "azdata_cell_guid": "8aa958a5-c2d6-4f3e-87d5-84ab60a04891",
                "language": "python"
            },
            "outputs": [],
            "execution_count": 5
        },
        {
            "cell_type": "markdown",
            "source": [
                "Now, you can take a look at what are the coordinates for each site.\n"
            ],
            "metadata": {
                "azdata_cell_guid": "a85369f3-1280-4ac2-9b05-79d93b9529a7"
            }
        },
        {
            "cell_type": "code",
            "source": [
                "# Select relevant sub-columns: `Launch Site`, `Lat(Latitude)`, `Long(Longitude)`, `class`\n",
                "spacex_df = spacex_df[['Launch Site', 'Lat', 'Long', 'class']]\n",
                "launch_sites_df = spacex_df.groupby(['Launch Site'], as_index=False).first()\n",
                "launch_sites_df = launch_sites_df[['Launch Site', 'Lat', 'Long']]\n",
                "launch_sites_df"
            ],
            "metadata": {
                "azdata_cell_guid": "5f68ea4a-bff7-45f9-8127-98d5c9d6e32a",
                "language": "python"
            },
            "outputs": [
                {
                    "data": {
                        "text/plain": "    Launch Site        Lat        Long\n0   CCAFS LC-40  28.562302  -80.577356\n1  CCAFS SLC-40  28.563197  -80.576820\n2    KSC LC-39A  28.573255  -80.646895\n3   VAFB SLC-4E  34.632834 -120.610745",
                        "text/html": "<div>\n<style scoped>\n    .dataframe tbody tr th:only-of-type {\n        vertical-align: middle;\n    }\n\n    .dataframe tbody tr th {\n        vertical-align: top;\n    }\n\n    .dataframe thead th {\n        text-align: right;\n    }\n</style>\n<table border=\"1\" class=\"dataframe\">\n  <thead>\n    <tr style=\"text-align: right;\">\n      <th></th>\n      <th>Launch Site</th>\n      <th>Lat</th>\n      <th>Long</th>\n    </tr>\n  </thead>\n  <tbody>\n    <tr>\n      <th>0</th>\n      <td>CCAFS LC-40</td>\n      <td>28.562302</td>\n      <td>-80.577356</td>\n    </tr>\n    <tr>\n      <th>1</th>\n      <td>CCAFS SLC-40</td>\n      <td>28.563197</td>\n      <td>-80.576820</td>\n    </tr>\n    <tr>\n      <th>2</th>\n      <td>KSC LC-39A</td>\n      <td>28.573255</td>\n      <td>-80.646895</td>\n    </tr>\n    <tr>\n      <th>3</th>\n      <td>VAFB SLC-4E</td>\n      <td>34.632834</td>\n      <td>-120.610745</td>\n    </tr>\n  </tbody>\n</table>\n</div>"
                    },
                    "metadata": {},
                    "execution_count": 6,
                    "output_type": "execute_result"
                }
            ],
            "execution_count": 6
        },
        {
            "cell_type": "markdown",
            "source": [
                "Above coordinates are just plain numbers that can not give you any intuitive insights about where are those launch sites. If you are very good at geography, you can interpret those numbers directly in your mind. If not, that's fine too. Let's visualize those locations by pinning them on a map.\n"
            ],
            "metadata": {
                "azdata_cell_guid": "2568c9b9-e251-48ce-bc78-110ebcf7b22e"
            }
        },
        {
            "cell_type": "markdown",
            "source": [
                "We first need to create a folium `Map` object, with an initial center location to be NASA Johnson Space Center at Houston, Texas.\n"
            ],
            "metadata": {
                "azdata_cell_guid": "f8acdbd7-2719-444f-bd03-d0c5ae684391"
            }
        },
        {
            "cell_type": "code",
            "source": [
                "# Start location is NASA Johnson Space Center\n",
                "nasa_coordinate = [29.559684888503615, -95.0830971930759]\n",
                "site_map = folium.Map(location=nasa_coordinate, zoom_start=10)"
            ],
            "metadata": {
                "azdata_cell_guid": "32f436a3-13d1-4f09-81af-bced4ad6d8ca",
                "language": "python"
            },
            "outputs": [],
            "execution_count": 7
        },
        {
            "cell_type": "markdown",
            "source": [
                "We could use `folium.Circle` to add a highlighted circle area with a text label on a specific coordinate. For example,\n"
            ],
            "metadata": {
                "azdata_cell_guid": "6b44e34e-7dcb-4d23-a395-e96667ed3f0e"
            }
        },
        {
            "cell_type": "code",
            "source": [
                "# Create a blue circle at NASA Johnson Space Center's coordinate with a popup label showing its name\n",
                "circle = folium.Circle(nasa_coordinate, radius=1000, color='#d35400', fill=True).add_child(folium.Popup('NASA Johnson Space Center'))\n",
                "# Create a blue circle at NASA Johnson Space Center's coordinate with a icon showing its name\n",
                "marker = folium.map.Marker(\n",
                "    nasa_coordinate,\n",
                "    # Create an icon as a text label\n",
                "    icon=DivIcon(\n",
                "        icon_size=(20,20),\n",
                "        icon_anchor=(0,0),\n",
                "        html='<div style=\"font-size: 12; color:#d35400;\"><b>%s</b></div>' % 'NASA JSC',\n",
                "        )\n",
                "    )\n",
                "site_map.add_child(circle)\n",
                "site_map.add_child(marker)"
            ],
            "metadata": {
                "azdata_cell_guid": "cefb9607-f04c-4761-b33d-83c164c11c65",
                "language": "python",
                "tags": []
            },
            "outputs": [
{
    "data": {
        "text/plain": "<folium.folium.Map at 0x1c451727f10>",
        "text/html": "<div style=\"width:100%;\"><div style=\"position:relative;width:100%;height:0;padding-bottom:60%;\"><span style=\"color:#565656\">Make this Notebook Trusted to load map: File -> Trust Notebook</span><iframe srcdoc=\"&lt;!DOCTYPE html&gt;\n&lt;html&gt;\n&lt;head&gt;\n    \n    &lt;meta http-equiv=&quot;content-type&quot; content=&quot;text/html; charset=UTF-8&quot; /&gt;\n    \n        &lt;script&gt;\n            L_NO_TOUCH = false;\n            L_DISABLE_3D = false;\n        &lt;/script&gt;\n    \n    &lt;style&gt;html, body {width: 100%;height: 100%;margin: 0;padding: 0;}&lt;/style&gt;\n    &lt;style&gt;#map {position:absolute;top:0;bottom:0;right:0;left:0;}&lt;/style&gt;\n    &lt;script src=&quot;https://cdn.jsdelivr.net/npm/leaflet@1.6.0/dist/leaflet.js&quot;&gt;&lt;/script&gt;\n    &lt;script src=&quot;https://code.jquery.com/jquery-1.12.4.min.js&quot;&gt;&lt;/script&gt;\n    &lt;script src=&quot;https://maxcdn.bootstrapcdn.com/bootstrap/3.2.0/js/bootstrap.min.js&quot;&gt;&lt;/script&gt;\n    &lt;script src=&quot;https://cdnjs.cloudflare.com/ajax/libs/Leaflet.awesome-markers/2.0.2/leaflet.awesome-markers.js&quot;&gt;&lt;/script&gt;\n    &lt;link rel=&quot;stylesheet&quot; href=&quot;https://cdn.jsdelivr.net/npm/leaflet@1.6.0/dist/leaflet.css&quot;/&gt;\n    &lt;link rel=&quot;stylesheet&quot; href=&quot;https://maxcdn.bootstrapcdn.com/bootstrap/3.2.0/css/bootstrap.min.css&quot;/&gt;\n    &lt;link rel=&quot;stylesheet&quot; href=&quot;https://maxcdn.bootstrapcdn.com/bootstrap/3.2.0/css/bootstrap-theme.min.css&quot;/&gt;\n    &lt;link rel=&quot;stylesheet&quot; href=&quot;https://maxcdn.bootstrapcdn.com/font-awesome/4.6.3/css/font-awesome.min.css&quot;/&gt;\n    &lt;link rel=&quot;stylesheet&quot; href=&quot;https://cdnjs.cloudflare.com/ajax/libs/Leaflet.awesome-markers/2.0.2/leaflet.awesome-markers.css&quot;/&gt;\n    &lt;link rel=&quot;stylesheet&quot; href=&quot;https://cdn.jsdelivr.net/gh/python-visualization/folium/folium/templates/leaflet.awesome.rotate.min.css&quot;/&gt;\n    \n            &lt;meta name=&quot;viewport&quot; content=&quot;width=device-width,\n                initial-scale=1.0, maximum-scale=1.0, user-scalable=no&quot; /&gt;\n            &lt;style&gt;\n                #map_215eb8a6f0a685619c6e1a9d71c149e0 {\n                    position: relative;\n                    width: 100.0%;\n                    height: 100.0%;\n                    left: 0.0%;\n                    top: 0.0%;\n                }\n            &lt;/style&gt;\n        \n&lt;/head&gt;\n&lt;body&gt;\n    \n    \n            &lt;div class=&quot;folium-map&quot; id=&quot;map_215eb8a6f0a685619c6e1a9d71c149e0&quot; &gt;&lt;/div&gt;\n        \n&lt;/body&gt;\n&lt;script&gt;\n    \n    \n            var map_215eb8a6f0a685619c6e1a9d71c149e0 = L.map(\n                &quot;map_215eb8a6f0a685619c6e1a9d71c149e0&quot;,\n                {\n                    center: [29.559684888503615, -95.0830971930759],\n                    crs: L.CRS.EPSG3857,\n                    zoom: 10,\n                    zoomControl: true,\n                    preferCanvas: false,\n                }\n            );\n\n            \n\n        \n    \n            var tile_layer_3636223251641f146cbc7a833cd0b651 = L.tileLayer(\n                &quot;https://{s}.tile.openstreetmap.org/{z}/{x}/{y}.png&quot;,\n                {&quot;attribution&quot;: &quot;Data by \\u0026copy; \\u003ca href=\\&quot;http://openstreetmap.org\\&quot;\\u003eOpenStreetMap\\u003c/a\\u003e, under \\u003ca href=\\&quot;http://www.openstreetmap.org/copyright\\&quot;\\u003eODbL\\u003c/a\\u003e.&quot;, &quot;detectRetina&quot;: false, &quot;maxNativeZoom&quot;: 18, &quot;maxZoom&quot;: 18, &quot;minZoom&quot;: 0, &quot;noWrap&quot;: false, &quot;opacity&quot;: 1, &quot;subdomains&quot;: &quot;abc&quot;, &quot;tms&quot;: false}\n            ).addTo(map_215eb8a6f0a685619c6e1a9d71c149e0);\n        \n    \n            var circle_6a0a37515e9a5d7f7fa9e984ceef0bdb = L.circle(\n                [29.559684888503615, -95.0830971930759],\n                {&quot;bubblingMouseEvents&quot;: true, &quot;color&quot;: &quot;#d35400&quot;, &quot;dashArray&quot;: null, &quot;dashOffset&quot;: null, &quot;fill&quot;: true, &quot;fillColor&quot;: &quot;#d35400&quot;, &quot;fillOpacity&quot;: 0.2, &quot;fillRule&quot;: &quot;evenodd&quot;, &quot;lineCap&quot;: &quot;round&quot;, &quot;lineJoin&quot;: &quot;round&quot;, &quot;opacity&quot;: 1.0, &quot;radius&quot;: 1000, &quot;stroke&quot;: true, &quot;weight&quot;: 3}\n            ).addTo(map_215eb8a6f0a685619c6e1a9d71c149e0);\n        \n    \n        var popup_8d00142f0d191b1ee69472f0163f4e3b = L.popup({&quot;maxWidth&quot;: &quot;100%&quot;});\n\n        \n            \n                var html_803b2d4630e469294b6466905e6359c6 = $(`&lt;div id=&quot;html_803b2d4630e469294b6466905e6359c6&quot; style=&quot;width: 100.0%; height: 100.0%;&quot;&gt;NASA Johnson Space Center&lt;/div&gt;`)[0];\n                popup_8d00142f0d191b1ee69472f0163f4e3b.setContent(html_803b2d4630e469294b6466905e6359c6);\n            \n        \n\n        circle_6a0a37515e9a5d7f7fa9e984ceef0bdb.bindPopup(popup_8d00142f0d191b1ee69472f0163f4e3b)\n        ;\n\n        \n    \n    \n            var marker_cd7800e42560963122e7b19d3e3328f3 = L.marker(\n                [29.559684888503615, -95.0830971930759],\n                {}\n            ).addTo(map_215eb8a6f0a685619c6e1a9d71c149e0);\n        \n    \n            var div_icon_5bbe85aa0e44eb272ee9eb18c0a9ad87 = L.divIcon({&quot;className&quot;: &quot;empty&quot;, &quot;html&quot;: &quot;\\u003cdiv style=\\&quot;font-size: 12; color:#d35400;\\&quot;\\u003e\\u003cb\\u003eNASA JSC\\u003c/b\\u003e\\u003c/div\\u003e&quot;, &quot;iconAnchor&quot;: [0, 0], &quot;iconSize&quot;: [20, 20]});\n            marker_cd7800e42560963122e7b19d3e3328f3.setIcon(div_icon_5bbe85aa0e44eb272ee9eb18c0a9ad87);\n        \n    \n            var circle_fb5c154a3bc7f24cdf9946a45208a968 = L.circle(\n                [29.559684888503615, -95.0830971930759],\n                {&quot;bubblingMouseEvents&quot;: true, &quot;color&quot;: &quot;#d35400&quot;, &quot;dashArray&quot;: null, &quot;dashOffset&quot;: null, &quot;fill&quot;: true, &quot;fillColor&quot;: &quot;#d35400&quot;, &quot;fillOpacity&quot;: 0.2, &quot;fillRule&quot;: &quot;evenodd&quot;, &quot;lineCap&quot;: &quot;round&quot;, &quot;lineJoin&quot;: &quot;round&quot;, &quot;opacity&quot;: 1.0, &quot;radius&quot;: 1000, &quot;stroke&quot;: true, &quot;weight&quot;: 3}\n            ).addTo(map_215eb8a6f0a685619c6e1a9d71c149e0);\n        \n    \n        var popup_cd40a41cb7dec7de8a28510d78b92b84 = L.popup({&quot;maxWidth&quot;: &quot;100%&quot;});\n\n        \n            \n                var html_42f0b1307ca0b48e3ed3eec499942132 = $(`&lt;div id=&quot;html_42f0b1307ca0b48e3ed3eec499942132&quot; style=&quot;width: 100.0%; height: 100.0%;&quot;&gt;NASA Johnson Space Center&lt;/div&gt;`)[0];\n                popup_cd40a41cb7dec7de8a28510d78b92b84.setContent(html_42f0b1307ca0b48e3ed3eec499942132);\n            \n        \n\n        circle_fb5c154a3bc7f24cdf9946a45208a968.bindPopup(popup_cd40a41cb7dec7de8a28510d78b92b84)\n        ;\n\n        \n    \n    \n            var marker_b7abdebcd2c8c08bf7a6312a79911332 = L.marker(\n                [29.559684888503615, -95.0830971930759],\n                {}\n            ).addTo(map_215eb8a6f0a685619c6e1a9d71c149e0);\n        \n    \n            var div_icon_7b18e3c51f5d24a40728e7c65c599dc3 = L.divIcon({&quot;className&quot;: &quot;empty&quot;, &quot;html&quot;: &quot;\\u003cdiv style=\\&quot;font-size: 12; color:#d35400;\\&quot;\\u003e\\u003cb\\u003eNASA JSC\\u003c/b\\u003e\\u003c/div\\u003e&quot;, &quot;iconAnchor&quot;: [0, 0], &quot;iconSize&quot;: [20, 20]});\n            marker_b7abdebcd2c8c08bf7a6312a79911332.setIcon(div_icon_7b18e3c51f5d24a40728e7c65c599dc3);\n        \n    \n            var circle_38f0d0ed12b34efc6967800fc686771a = L.circle(\n                [29.559684888503615, -95.0830971930759],\n                {&quot;bubblingMouseEvents&quot;: true, &quot;color&quot;: &quot;#d35400&quot;, &quot;dashArray&quot;: null, &quot;dashOffset&quot;: null, &quot;fill&quot;: true, &quot;fillColor&quot;: &quot;#d35400&quot;, &quot;fillOpacity&quot;: 0.2, &quot;fillRule&quot;: &quot;evenodd&quot;, &quot;lineCap&quot;: &quot;round&quot;, &quot;lineJoin&quot;: &quot;round&quot;, &quot;opacity&quot;: 1.0, &quot;radius&quot;: 1000, &quot;stroke&quot;: true, &quot;weight&quot;: 3}\n            ).addTo(map_215eb8a6f0a685619c6e1a9d71c149e0);\n        \n    \n        var popup_3ae33b805ca3ba3be89d4283e7f15f36 = L.popup({&quot;maxWidth&quot;: &quot;100%&quot;});\n\n        \n            \n                var html_b2433d242766ae45838a3078d54bfd76 = $(`&lt;div id=&quot;html_b2433d242766ae45838a3078d54bfd76&quot; style=&quot;width: 100.0%; height: 100.0%;&quot;&gt;NASA Johnson Space Center&lt;/div&gt;`)[0];\n                popup_3ae33b805ca3ba3be89d4283e7f15f36.setContent(html_b2433d242766ae45838a3078d54bfd76);\n            \n        \n\n        circle_38f0d0ed12b34efc6967800fc686771a.bindPopup(popup_3ae33b805ca3ba3be89d4283e7f15f36)\n        ;\n\n        \n    \n    \n            var marker_bf7077e452f643847ea9eb02d3b90a0e = L.marker(\n                [29.559684888503615, -95.0830971930759],\n                {}\n            ).addTo(map_215eb8a6f0a685619c6e1a9d71c149e0);\n        \n    \n            var div_icon_2d85c7785087fa566e1bc3ad871f8088 = L.divIcon({&quot;className&quot;: &quot;empty&quot;, &quot;html&quot;: &quot;\\u003cdiv style=\\&quot;font-size: 12; color:#d35400;\\&quot;\\u003e\\u003cb\\u003eNASA JSC\\u003c/b\\u003e\\u003c/div\\u003e&quot;, &quot;iconAnchor&quot;: [0, 0], &quot;iconSize&quot;: [20, 20]});\n            marker_bf7077e452f643847ea9eb02d3b90a0e.setIcon(div_icon_2d85c7785087fa566e1bc3ad871f8088);\n        \n&lt;/script&gt;\n&lt;/html&gt;\" style=\"position:absolute;width:100%;height:100%;left:0;top:0;border:none !important;\" allowfullscreen webkitallowfullscreen mozallowfullscreen></iframe></div></div>"
    },
    "metadata": {},
    "execution_count": 10,
    "output_type": "execute_result"
}
],
            "execution_count": 10
        },
        {
            "cell_type": "markdown",
            "source": [
                "and you should find a small yellow circle near the city of Houston and you can zoom-in to see a larger circle.\n"
            ],
            "metadata": {
                "azdata_cell_guid": "2a3f66ff-bc89-494e-aaed-6e4526a74848"
            }
        },
        {
            "cell_type": "markdown",
            "source": [
                "Now, let's add a circle for each launch site in data frame `launch_sites`\n"
            ],
            "metadata": {
                "azdata_cell_guid": "e768d08a-21f5-4b22-946f-b359a72208a7"
            }
        },
        {
            "cell_type": "markdown",
            "source": [
                "*TODO:*  Create and add `folium.Circle` and `folium.Marker` for each launch site on the site map\n"
            ],
            "metadata": {
                "azdata_cell_guid": "0aefc499-e32c-490c-9138-47a6186eb259"
            }
        },
        {
            "cell_type": "markdown",
            "source": [
                "An example of folium.Circle:\n"
            ],
            "metadata": {
                "azdata_cell_guid": "074d0d0a-e38c-43ad-a034-548beca522c4"
            }
        },
        {
            "cell_type": "markdown",
            "source": [
                "`folium.Circle(coordinate, radius=1000, color='#000000', fill=True).add_child(folium.Popup(...))`\n"
            ],
            "metadata": {
                "azdata_cell_guid": "6d44d8f3-b3f7-442d-a52a-224cd06b2d54"
            }
        },
        {
            "cell_type": "markdown",
            "source": [
                "An example of folium.Marker:\n"
            ],
            "metadata": {
                "azdata_cell_guid": "f0c9e7da-2be5-4419-ac6f-2e7c58c89bd6"
            }
        },
        {
            "cell_type": "markdown",
            "source": [
                "`folium.map.Marker(coordinate, icon=DivIcon(icon_size=(20,20),icon_anchor=(0,0), html='<div style=\"font-size: 12; color:#d35400;\"><b>%s</b></div>' % 'label', ))`\n"
            ],
            "metadata": {
                "azdata_cell_guid": "1bea5752-1804-4c91-a318-60c745d8b1c2"
            }
        },
        {
            "cell_type": "code",
            "source": [
                "# Initial the map\n",
                "site_map = folium.Map(location=nasa_coordinate, zoom_start=5)\n",
                "# For each launch site, add a Circle object based on its coordinate (Lat, Long) values. In addition, add Launch site name as a popup label\n",
                "CCAFS_LC_40_coordinate = [28.562302, -80.577356]\n",
                "circle = folium.Circle(CCAFS_LC_40_coordinate, radius=1000, color='#d35400', fill=True).add_child(folium.Popup('CCAFS_LC_40'))\n",
                "marker = folium.map.Marker(\n",
                "    CCAFS_LC_40_coordinate,\n",
                "    icon=DivIcon(\n",
                "        icon_size=(20,20),\n",
                "        icon_anchor=(0,0),\n",
                "        html='\n",
                "%s\n",
                "' % 'CCAFS_LC_40',\n",
                "        )\n",
                "    )\n",
                "site_map.add_child(circle)\n",
                "site_map.add_child(marker)\n",
                "\n",
                "\n",
                "\n",
                "\n",
                "\n",
                "VAFB_SLC_4E_coordinate = [34.632834, -120.610746]\n",
                "circle = folium.Circle(VAFB_SLC_4E_coordinate, radius=1000, color='#d35400', fill=True).add_child(folium.Popup('VAFB_SLC_4E'))\n",
                "marker = folium.map.Marker(\n",
                "    VAFB_SLC_4E_coordinate,\n",
                "    icon=DivIcon(\n",
                "        icon_size=(20,20),\n",
                "        icon_anchor=(0,0),\n",
                "        html='\n",
                "%s\n",
                "' % 'VAFB_SLC_4E',\n",
                "        )\n",
                "    )\n",
                "site_map.add_child(circle)\n",
                "site_map.add_child(marker)\n",
                "\n",
                "\n",
                "\n",
                "\n",
                "CCAFS_SLC_40_coordinate = [28.563197, -80.576820]\n",
                "circle = folium.Circle(CCAFS_SLC_40_coordinate, radius=1000, color='#d35400', fill=True).add_child(folium.Popup('CCAFS_SLC_40'))\n",
                "marker = folium.map.Marker(\n",
                "    CCAFS_SLC_40_coordinate,\n",
                "    icon=DivIcon(\n",
                "        icon_size=(20,20),\n",
                "        icon_anchor=(0,0),\n",
                "        html='\n",
                "%s\n",
                "' % 'CCAFS_SLC_40',\n",
                "        )\n",
                "    )\n",
                "site_map.add_child(circle)\n",
                "site_map.add_child(marker)\n",
                "\n",
                "\n",
                "\n",
                "\n",
                "\n",
                "KSC_LC_39A_coordinate = [28.573255, -80.646895]\n",
                "circle = folium.Circle(KSC_LC_39A_coordinate, radius=1000, color='#d35400', fill=True).add_child(folium.Popup('KSC_LC_39A'))\n",
                "marker = folium.map.Marker(\n",
                "    KSC_LC_39A_coordinate,\n",
                "    icon=DivIcon(\n",
                "        icon_size=(20,20),\n",
                "        icon_anchor=(0,0),\n",
                "        html='\n",
                "%s\n",
                "' % 'KSC_LC_39A',\n",
                "        )\n",
                "    )\n",
                "site_map.add_child(circle)\n",
                "site_map.add_child(marker)"
            ],
            "metadata": {
                "azdata_cell_guid": "2c7b6d37-2790-4560-9023-5c465f27c67f",
                "language": "python",
                "tags": []
            },
            "outputs": [
                {
                    "output_type": "error",
                    "ename": "SyntaxError",
                    "evalue": "unterminated string literal (detected at line 11) (2195819937.py, line 11)",
                    "traceback": [
                        "\u001b[1;36m  Cell \u001b[1;32mIn[30], line 11\u001b[1;36m\u001b[0m\n\u001b[1;33m    html='\u001b[0m\n\u001b[1;37m         ^\u001b[0m\n\u001b[1;31mSyntaxError\u001b[0m\u001b[1;31m:\u001b[0m unterminated string literal (detected at line 11)\n"
                    ]
                }
            ],
            "execution_count": 30
        },
        {
            "cell_type": "markdown",
            "source": [
                "The generated map with marked launch sites should look similar to the following:\n"
            ],
            "metadata": {
                "azdata_cell_guid": "eaef3b91-714d-4c30-a209-68751fcc8839"
            }
        },
        {
            "cell_type": "markdown",
            "source": [
                "<center>\n",
                "    <img src=\"https://cf-courses-data.s3.us.cloud-object-storage.appdomain.cloud/IBM-DS0321EN-SkillsNetwork/labs/module_3/images/launch_site_markers.png\" />\n",
                "</center>\n"
            ],
            "metadata": {
                "azdata_cell_guid": "c0d76763-d291-420b-926a-0a2f5e6dbc68"
            }
        },
        {
            "cell_type": "markdown",
            "source": [
                "Now, you can explore the map by zoom-in/out the marked areas\n",
                ", and try to answer the following questions:\n",
                "\n",
                "*   Are all launch sites in proximity to the Equator line?\n",
                "*   Are all launch sites in very close proximity to the coast?\n",
                "\n",
                "Also please try to explain your findings.\n"
            ],
            "metadata": {
                "azdata_cell_guid": "df762746-39e3-4062-b588-f23d7ab0a084"
            }
        },
        {
            "cell_type": "markdown",
            "source": [
                "# Task 2: Mark the success/failed launches for each site on the map\n"
            ],
            "metadata": {
                "azdata_cell_guid": "da639cb9-d44a-4ee3-9544-5720a5bbabc7"
            }
        },
        {
            "cell_type": "markdown",
            "source": [
                "Next, let's try to enhance the map by adding the launch outcomes for each site, and see which sites have high success rates.\n",
                "Recall that data frame spacex_df has detailed launch records, and the `class` column indicates if this launch was successful or not\n"
            ],
            "metadata": {
                "azdata_cell_guid": "02d43dbf-509c-48ae-a386-f22758d92590"
            }
        },
        {
            "cell_type": "code",
            "source": [
                "spacex_df.rename(columns = {'class' : 'Class'}, inplace = True)\n",
                "spacex_df.tail(10)"
            ],
            "metadata": {
                "azdata_cell_guid": "83dff88d-fdb2-4277-97ee-a7c39ba88520",
                "language": "python"
            },
            "outputs": [
                {
                    "output_type": "execute_result",
                    "execution_count": 31,
                    "data": {
                        "text/html": "<div>\n<style scoped>\n    .dataframe tbody tr th:only-of-type {\n        vertical-align: middle;\n    }\n\n    .dataframe tbody tr th {\n        vertical-align: top;\n    }\n\n    .dataframe thead th {\n        text-align: right;\n    }\n</style>\n<table border=\"1\" class=\"dataframe\">\n  <thead>\n    <tr style=\"text-align: right;\">\n      <th></th>\n      <th>Launch Site</th>\n      <th>Lat</th>\n      <th>Long</th>\n      <th>Class</th>\n    </tr>\n  </thead>\n  <tbody>\n    <tr>\n      <th>46</th>\n      <td>KSC LC-39A</td>\n      <td>28.573255</td>\n      <td>-80.646895</td>\n      <td>1</td>\n    </tr>\n    <tr>\n      <th>47</th>\n      <td>KSC LC-39A</td>\n      <td>28.573255</td>\n      <td>-80.646895</td>\n      <td>1</td>\n    </tr>\n    <tr>\n      <th>48</th>\n      <td>KSC LC-39A</td>\n      <td>28.573255</td>\n      <td>-80.646895</td>\n      <td>1</td>\n    </tr>\n    <tr>\n      <th>49</th>\n      <td>CCAFS SLC-40</td>\n      <td>28.563197</td>\n      <td>-80.576820</td>\n      <td>1</td>\n    </tr>\n    <tr>\n      <th>50</th>\n      <td>CCAFS SLC-40</td>\n      <td>28.563197</td>\n      <td>-80.576820</td>\n      <td>1</td>\n    </tr>\n    <tr>\n      <th>51</th>\n      <td>CCAFS SLC-40</td>\n      <td>28.563197</td>\n      <td>-80.576820</td>\n      <td>0</td>\n    </tr>\n    <tr>\n      <th>52</th>\n      <td>CCAFS SLC-40</td>\n      <td>28.563197</td>\n      <td>-80.576820</td>\n      <td>0</td>\n    </tr>\n    <tr>\n      <th>53</th>\n      <td>CCAFS SLC-40</td>\n      <td>28.563197</td>\n      <td>-80.576820</td>\n      <td>0</td>\n    </tr>\n    <tr>\n      <th>54</th>\n      <td>CCAFS SLC-40</td>\n      <td>28.563197</td>\n      <td>-80.576820</td>\n      <td>1</td>\n    </tr>\n    <tr>\n      <th>55</th>\n      <td>CCAFS SLC-40</td>\n      <td>28.563197</td>\n      <td>-80.576820</td>\n      <td>0</td>\n    </tr>\n  </tbody>\n</table>\n</div>",
                        "text/plain": "     Launch Site        Lat       Long  Class\n46    KSC LC-39A  28.573255 -80.646895      1\n47    KSC LC-39A  28.573255 -80.646895      1\n48    KSC LC-39A  28.573255 -80.646895      1\n49  CCAFS SLC-40  28.563197 -80.576820      1\n50  CCAFS SLC-40  28.563197 -80.576820      1\n51  CCAFS SLC-40  28.563197 -80.576820      0\n52  CCAFS SLC-40  28.563197 -80.576820      0\n53  CCAFS SLC-40  28.563197 -80.576820      0\n54  CCAFS SLC-40  28.563197 -80.576820      1\n55  CCAFS SLC-40  28.563197 -80.576820      0"
                    },
                    "metadata": {}
                }
            ],
            "execution_count": 31
        },
        {
            "cell_type": "markdown",
            "source": [
                "Next, let's create markers for all launch records.\n",
                "If a launch was successful `(class=1)`, then we use a green marker and if a launch was failed, we use a red marker `(class=0)`\n"
            ],
            "metadata": {
                "azdata_cell_guid": "18835bb0-aca4-471a-b5dc-f6e933e323df"
            }
        },
        {
            "cell_type": "markdown",
            "source": [
                "Note that a launch only happens in one of the four launch sites, which means many launch records will have the exact same coordinate. Marker clusters can be a good way to simplify a map containing many markers having the same coordinate.\n"
            ],
            "metadata": {
                "azdata_cell_guid": "8ba45a27-0307-492c-b7b7-546f2cd5344a"
            }
        },
        {
            "cell_type": "markdown",
            "source": [
                "Let's first create a `MarkerCluster` object\n"
            ],
            "metadata": {
                "azdata_cell_guid": "c916c000-8312-4ba3-b2f0-0532728602f3"
            }
        },
        {
            "cell_type": "code",
            "source": [
                "marker_cluster = MarkerCluster()\n"
            ],
            "metadata": {
                "azdata_cell_guid": "250e7773-28af-4abf-abf4-988ce62018f9",
                "id": "wP9PVUZ7Jfjt",
                "language": "python",
                "outputId": "6a3b8164-940c-4b93-9f3d-c655c4a0c683",
                "papermill": {
                    "duration": 0.904519,
                    "end_time": "2020-09-19T06:27:38.357041",
                    "exception": false,
                    "start_time": "2020-09-19T06:27:37.452522",
                    "status": "completed"
                },
                "tags": []
            },
            "outputs": [],
            "execution_count": 33
        },
        {
            "cell_type": "markdown",
            "source": [
                "*TODO:* Create a new column in `launch_sites` dataframe called `marker_color` to store the marker colors based on the `class` value\n"
            ],
            "metadata": {
                "azdata_cell_guid": "4dd56903-f8f5-4306-bc74-397a6b8b5aaf"
            }
        },
        {
            "cell_type": "code",
            "source": [
                "launch_sites_df['Class'] = spacex_df['Class']\n",
                "\n",
                "def assign_Class_value(Class):\n",
                "    if Class == 1:\n",
                "        return 'green'\n",
                "    else:\n",
                "        return 'red'\n",
                "    \n",
                "launch_sites_df['marker_color'] = launch_sites_df['Class'].apply(assign_Class_value)\n",
                "launch_sites_df.tail(10)\n",
                "\n",
                "# Apply a function to check the value of `class` column\n",
                "# If class=1, marker_color value will be green\n",
                "# If class=0, marker_color value will be red"
            ],
            "metadata": {
                "azdata_cell_guid": "9fce6236-c343-42b8-ba35-3835e805beab",
                "language": "python"
            },
            "outputs": [
                {
                    "output_type": "execute_result",
                    "execution_count": 34,
                    "data": {
                        "text/html": "<div>\n<style scoped>\n    .dataframe tbody tr th:only-of-type {\n        vertical-align: middle;\n    }\n\n    .dataframe tbody tr th {\n        vertical-align: top;\n    }\n\n    .dataframe thead th {\n        text-align: right;\n    }\n</style>\n<table border=\"1\" class=\"dataframe\">\n  <thead>\n    <tr style=\"text-align: right;\">\n      <th></th>\n      <th>Launch Site</th>\n      <th>Lat</th>\n      <th>Long</th>\n      <th>Class</th>\n      <th>marker_color</th>\n    </tr>\n  </thead>\n  <tbody>\n    <tr>\n      <th>0</th>\n      <td>CCAFS LC-40</td>\n      <td>28.562302</td>\n      <td>-80.577356</td>\n      <td>0</td>\n      <td>red</td>\n    </tr>\n    <tr>\n      <th>1</th>\n      <td>CCAFS SLC-40</td>\n      <td>28.563197</td>\n      <td>-80.576820</td>\n      <td>0</td>\n      <td>red</td>\n    </tr>\n    <tr>\n      <th>2</th>\n      <td>KSC LC-39A</td>\n      <td>28.573255</td>\n      <td>-80.646895</td>\n      <td>0</td>\n      <td>red</td>\n    </tr>\n    <tr>\n      <th>3</th>\n      <td>VAFB SLC-4E</td>\n      <td>34.632834</td>\n      <td>-120.610745</td>\n      <td>0</td>\n      <td>red</td>\n    </tr>\n  </tbody>\n</table>\n</div>",
                        "text/plain": "    Launch Site        Lat        Long  Class marker_color\n0   CCAFS LC-40  28.562302  -80.577356      0          red\n1  CCAFS SLC-40  28.563197  -80.576820      0          red\n2    KSC LC-39A  28.573255  -80.646895      0          red\n3   VAFB SLC-4E  34.632834 -120.610745      0          red"
                    },
                    "metadata": {}
                }
            ],
            "execution_count": 34
        },
        {
            "cell_type": "code",
            "source": [
                "# Function to assign color to launch outcome\n",
                "def assign_marker_color(launch_outcome):\n",
                "    if launch_outcome == 1:\n",
                "        return 'green'\n",
                "    else:\n",
                "        return 'red'\n",
                "    \n",
                "spacex_df['marker_color'] = spacex_df['Class'].apply(assign_marker_color)\n",
                "spacex_df.tail(10)"
            ],
            "metadata": {
                "azdata_cell_guid": "53c69e0e-13ba-4b47-bc38-f97ff87ec2d1",
                "language": "python",
                "tags": []
            },
            "outputs": [
                {
                    "output_type": "execute_result",
                    "execution_count": 37,
                    "data": {
                        "text/html": "<div>\n<style scoped>\n    .dataframe tbody tr th:only-of-type {\n        vertical-align: middle;\n    }\n\n    .dataframe tbody tr th {\n        vertical-align: top;\n    }\n\n    .dataframe thead th {\n        text-align: right;\n    }\n</style>\n<table border=\"1\" class=\"dataframe\">\n  <thead>\n    <tr style=\"text-align: right;\">\n      <th></th>\n      <th>Launch Site</th>\n      <th>Lat</th>\n      <th>Long</th>\n      <th>Class</th>\n      <th>marker_color</th>\n    </tr>\n  </thead>\n  <tbody>\n    <tr>\n      <th>46</th>\n      <td>KSC LC-39A</td>\n      <td>28.573255</td>\n      <td>-80.646895</td>\n      <td>1</td>\n      <td>green</td>\n    </tr>\n    <tr>\n      <th>47</th>\n      <td>KSC LC-39A</td>\n      <td>28.573255</td>\n      <td>-80.646895</td>\n      <td>1</td>\n      <td>green</td>\n    </tr>\n    <tr>\n      <th>48</th>\n      <td>KSC LC-39A</td>\n      <td>28.573255</td>\n      <td>-80.646895</td>\n      <td>1</td>\n      <td>green</td>\n    </tr>\n    <tr>\n      <th>49</th>\n      <td>CCAFS SLC-40</td>\n      <td>28.563197</td>\n      <td>-80.576820</td>\n      <td>1</td>\n      <td>green</td>\n    </tr>\n    <tr>\n      <th>50</th>\n      <td>CCAFS SLC-40</td>\n      <td>28.563197</td>\n      <td>-80.576820</td>\n      <td>1</td>\n      <td>green</td>\n    </tr>\n    <tr>\n      <th>51</th>\n      <td>CCAFS SLC-40</td>\n      <td>28.563197</td>\n      <td>-80.576820</td>\n      <td>0</td>\n      <td>red</td>\n    </tr>\n    <tr>\n      <th>52</th>\n      <td>CCAFS SLC-40</td>\n      <td>28.563197</td>\n      <td>-80.576820</td>\n      <td>0</td>\n      <td>red</td>\n    </tr>\n    <tr>\n      <th>53</th>\n      <td>CCAFS SLC-40</td>\n      <td>28.563197</td>\n      <td>-80.576820</td>\n      <td>0</td>\n      <td>red</td>\n    </tr>\n    <tr>\n      <th>54</th>\n      <td>CCAFS SLC-40</td>\n      <td>28.563197</td>\n      <td>-80.576820</td>\n      <td>1</td>\n      <td>green</td>\n    </tr>\n    <tr>\n      <th>55</th>\n      <td>CCAFS SLC-40</td>\n      <td>28.563197</td>\n      <td>-80.576820</td>\n      <td>0</td>\n      <td>red</td>\n    </tr>\n  </tbody>\n</table>\n</div>",
                        "text/plain": "     Launch Site        Lat       Long  Class marker_color\n46    KSC LC-39A  28.573255 -80.646895      1        green\n47    KSC LC-39A  28.573255 -80.646895      1        green\n48    KSC LC-39A  28.573255 -80.646895      1        green\n49  CCAFS SLC-40  28.563197 -80.576820      1        green\n50  CCAFS SLC-40  28.563197 -80.576820      1        green\n51  CCAFS SLC-40  28.563197 -80.576820      0          red\n52  CCAFS SLC-40  28.563197 -80.576820      0          red\n53  CCAFS SLC-40  28.563197 -80.576820      0          red\n54  CCAFS SLC-40  28.563197 -80.576820      1        green\n55  CCAFS SLC-40  28.563197 -80.576820      0          red"
                    },
                    "metadata": {}
                }
            ],
            "execution_count": 37
        },
        {
            "cell_type": "markdown",
            "source": [
                "*TODO:* For each launch result in `spacex_df` data frame, add a `folium.Marker` to `marker_cluster`\n"
            ],
            "metadata": {
                "azdata_cell_guid": "cdc69ab2-ec6b-45f0-81a4-b9d56730d6f3"
            }
        },
        {
            "cell_type": "code",
            "source": [
                "# Add marker_cluster to current site_map\n",
                "site_map.add_child(marker_cluster)\n",
                "\n",
                "# for each row in spacex_df data frame\n",
                "# create a Marker object with its coordinate\n",
                "# and customize the Marker's icon property to indicate if this launch was successed or failed, \n",
                "# e.g., icon=folium.Icon(color='white', icon_color=row['marker_color']\n",
                "#for index, record in spacex_df.iterrows():\n",
                "for index, row in spacex_df.iterrows():\n",
                "    folium.map.Marker(\n",
                "        (row['Lat'], row['Long']), \n",
                "        icon=folium.Icon(color='white', \n",
                "        icon_color=row['marker_color'])).add_to(marker_cluster)\n",
                "\n",
                "    site_map.add_child(marker_cluster)\n",
                "site_map "
            ],
            "metadata": {
                "azdata_cell_guid": "889748fd-6258-484b-a62f-acfcbd948b8c",
                "language": "python",
                "tags": []
            },
            "outputs": [
                {
                    "output_type": "stream",
                    "name": "stderr",
                    "text": "\nKeyboardInterrupt\n"
                },
                {
                    "output_type": "stream",
                    "name": "stderr",
                    "text": "\n"
                }
            ],
            "execution_count": null
        },
        {
            "cell_type": "markdown",
            "source": [
                "Your updated map may look like the following screenshots:\n"
            ],
            "metadata": {
                "azdata_cell_guid": "5d25a659-062d-496d-bf7b-6f431ed866f7"
            }
        },
        {
            "cell_type": "markdown",
            "source": [
                "<center>\n",
                "    <img src=\"https://cf-courses-data.s3.us.cloud-object-storage.appdomain.cloud/IBM-DS0321EN-SkillsNetwork/labs/module_3/images/launch_site_marker_cluster.png\" />\n",
                "</center>\n"
            ],
            "metadata": {
                "azdata_cell_guid": "b711f6b9-c60e-4ddc-93ed-f9c0fbbf6ee4"
            }
        },
        {
            "cell_type": "markdown",
            "source": [
                "<center>\n",
                "    <img src=\"https://cf-courses-data.s3.us.cloud-object-storage.appdomain.cloud/IBM-DS0321EN-SkillsNetwork/labs/module_3/images/launch_site_marker_cluster_zoomed.png\" />\n",
                "</center>\n"
            ],
            "metadata": {
                "azdata_cell_guid": "9f17bba0-87a5-4c58-89cd-91c94074beb7"
            }
        },
        {
            "cell_type": "markdown",
            "source": [
                "From the color-labeled markers in marker clusters, you should be able to easily identify which launch sites have relatively high success rates.\n"
            ],
            "metadata": {
                "azdata_cell_guid": "b060a936-55f5-4707-8a32-0193f9db9c3c"
            }
        },
        {
            "cell_type": "markdown",
            "source": [
                "# TASK 3: Calculate the distances between a launch site to its proximities\n"
            ],
            "metadata": {
                "azdata_cell_guid": "2329ced9-dddd-45c7-ac59-a41498f07be0"
            }
        },
        {
            "cell_type": "markdown",
            "source": [
                "Next, we need to explore and analyze the proximities of launch sites.\n"
            ],
            "metadata": {
                "azdata_cell_guid": "cf0c8486-8766-4c64-abb5-dce461cd6df9"
            }
        },
        {
            "cell_type": "markdown",
            "source": [
                "Let's first add a `MousePosition` on the map to get coordinate for a mouse over a point on the map. As such, while you are exploring the map, you can easily find the coordinates of any points of interests (such as railway)\n"
            ],
            "metadata": {
                "azdata_cell_guid": "a09e230b-04d4-440b-a828-c437e79f176e"
            }
        },
        {
            "cell_type": "code",
            "source": [
                "# Add Mouse Position to get the coordinate (Lat, Long) for a mouse over on the map\n",
                "formatter = \"function(num) {return L.Util.formatNum(num, 5);};\"\n",
                "mouse_position = MousePosition(\n",
                "    position='topright',\n",
                "    separator=' Long: ',\n",
                "    empty_string='NaN',\n",
                "    lng_first=False,\n",
                "    num_digits=20,\n",
                "    prefix='Lat:',\n",
                "    lat_formatter=formatter,\n",
                "    lng_formatter=formatter,\n",
                ")\n",
                "\n",
                "site_map.add_child(mouse_position)\n",
                "site_map"
            ],
            "metadata": {
                "azdata_cell_guid": "cdcb94ec-7901-4b53-8473-82c345c674dc",
                "language": "python"
            },
            "outputs": [],
            "execution_count": null
        },
        {
            "cell_type": "markdown",
            "source": [
                "Now zoom in to a launch site and explore its proximity to see if you can easily find any railway, highway, coastline, etc. Move your mouse to these points and mark down their coordinates (shown on the top-left) in order to the distance to the launch site.\n"
            ],
            "metadata": {
                "azdata_cell_guid": "e34f5663-7790-4401-8462-2094cade4c0d"
            }
        },
        {
            "cell_type": "markdown",
            "source": [
                "You can calculate the distance between two points on the map based on their `Lat` and `Long` values using the following method:\n"
            ],
            "metadata": {
                "azdata_cell_guid": "1ab7a5d1-a49e-45ac-85fc-533f16a80b2c"
            }
        },
        {
            "cell_type": "code",
            "source": [
                "from math import sin, cos, sqrt, atan2, radians\n",
                "\n",
                "def calculate_distance(lat1, lon1, lat2, lon2):\n",
                "    # approximate radius of earth in km\n",
                "    R = 6373.0\n",
                "\n",
                "    lat1 = radians(lat1)\n",
                "    lon1 = radians(lon1)\n",
                "    lat2 = radians(lat2)\n",
                "    lon2 = radians(lon2)\n",
                "\n",
                "    dlon = lon2 - lon1\n",
                "    dlat = lat2 - lat1\n",
                "\n",
                "    a = sin(dlat / 2)**2 + cos(lat1) * cos(lat2) * sin(dlon / 2)**2\n",
                "    c = 2 * atan2(sqrt(a), sqrt(1 - a))\n",
                "\n",
                "    distance = R * c\n",
                "    return distance"
            ],
            "metadata": {
                "azdata_cell_guid": "954cbff0-a3a3-4cbf-8e0d-42f4ac59e7f5",
                "language": "python"
            },
            "outputs": [],
            "execution_count": null
        },
        {
            "cell_type": "markdown",
            "source": [
                "*TODO:* Mark down a point on the closest coastline using MousePosition and calculate the distance between the coastline point and the launch site.\n"
            ],
            "metadata": {
                "azdata_cell_guid": "e84770df-f6f4-41cf-857d-de5e233551dd"
            }
        },
        {
            "cell_type": "code",
            "source": [
                "# find coordinate of the closet coastline\n",
                "# e.g.,: Lat: 28.56367  Lon: -80.57163\n",
                "# distance_coastline = calculate_distance(launch_site_lat, launch_site_lon, coastline_lat, coastline_lon)"
            ],
            "metadata": {
                "azdata_cell_guid": "e790bd29-d512-4f38-9f5d-316cd3a3b956",
                "language": "python"
            },
            "outputs": [],
            "execution_count": null
        },
        {
            "cell_type": "markdown",
            "source": [
                "*TODO:* After obtained its coordinate, create a `folium.Marker` to show the distance\n"
            ],
            "metadata": {
                "azdata_cell_guid": "f0e64eb6-e646-40ee-842c-72fd806c1e1a"
            }
        },
        {
            "cell_type": "code",
            "source": [
                "# Create and add a folium.Marker on your selected closest coastline point on the map\n",
                "# Display the distance between coastline point and launch site using the icon property \n",
                "# for example\n",
                "# distance_marker = folium.Marker(\n",
                "#    coordinate,\n",
                "#    icon=DivIcon(\n",
                "#        icon_size=(20,20),\n",
                "#        icon_anchor=(0,0),\n",
                "#        html='<div style=\"font-size: 12; color:#d35400;\"><b>%s</b></div>' % \"{:10.2f} KM\".format(distance),\n",
                "#        )\n",
                "#    )"
            ],
            "metadata": {
                "azdata_cell_guid": "d3e430b6-d594-4808-8a3e-3b81442c577f",
                "language": "python"
            },
            "outputs": [],
            "execution_count": null
        },
        {
            "cell_type": "markdown",
            "source": [
                "*TODO:* Draw a `PolyLine` between a launch site to the selected coastline point\n"
            ],
            "metadata": {
                "azdata_cell_guid": "eb125320-2698-4828-98d3-bc8fc46c3d1c"
            }
        },
        {
            "cell_type": "code",
            "source": [
                "# Create a `folium.PolyLine` object using the coastline coordinates and launch site coordinate\n",
                "# lines=folium.PolyLine(locations=coordinates, weight=1)\n",
                "site_map.add_child(lines)"
            ],
            "metadata": {
                "azdata_cell_guid": "41e9c27e-243b-4439-8228-a9cf8943fa75",
                "language": "python"
            },
            "outputs": [],
            "execution_count": null
        },
        {
            "cell_type": "markdown",
            "source": [
                "Your updated map with distance line should look like the following screenshot:\n"
            ],
            "metadata": {
                "azdata_cell_guid": "6b6141a1-79c6-4132-b6b9-d518cade092d"
            }
        },
        {
            "cell_type": "markdown",
            "source": [
                "<center>\n",
                "    <img src=\"https://cf-courses-data.s3.us.cloud-object-storage.appdomain.cloud/IBM-DS0321EN-SkillsNetwork/labs/module_3/images/launch_site_marker_distance.png\" />\n",
                "</center>\n"
            ],
            "metadata": {
                "azdata_cell_guid": "1a27f99d-7875-4ab1-90b6-3ac9f5480710"
            }
        },
        {
            "cell_type": "markdown",
            "source": [
                "*TODO:* Similarly, you can draw a line betwee a launch site to its closest city, railway, highway, etc. You need to use `MousePosition` to find the their coordinates on the map first\n"
            ],
            "metadata": {
                "azdata_cell_guid": "35774290-3d8f-41f8-b38a-927de8ccf8a9"
            }
        },
        {
            "cell_type": "markdown",
            "source": [
                "A railway map symbol may look like this:\n"
            ],
            "metadata": {
                "azdata_cell_guid": "70854c12-3997-4377-b218-e0f5161d7167"
            }
        },
        {
            "cell_type": "markdown",
            "source": [
                "<center>\n",
                "    <img src=\"https://cf-courses-data.s3.us.cloud-object-storage.appdomain.cloud/IBM-DS0321EN-SkillsNetwork/labs/module_3/images/railway.png\" />\n",
                "</center>\n"
            ],
            "metadata": {
                "azdata_cell_guid": "ef4183f1-c136-4ba4-810a-228621ea7441"
            }
        },
        {
            "cell_type": "markdown",
            "source": [
                "A highway map symbol may look like this:\n"
            ],
            "metadata": {
                "azdata_cell_guid": "a5b560a8-7246-4aad-b74a-5abcafeca1dd"
            }
        },
        {
            "cell_type": "markdown",
            "source": [
                "<center>\n",
                "    <img src=\"https://cf-courses-data.s3.us.cloud-object-storage.appdomain.cloud/IBM-DS0321EN-SkillsNetwork/labs/module_3/images/highway.png\" />\n",
                "</center>\n"
            ],
            "metadata": {
                "azdata_cell_guid": "7cd8bfad-44b4-4d61-bc4c-0d6487f393fa"
            }
        },
        {
            "cell_type": "markdown",
            "source": [
                "A city map symbol may look like this:\n"
            ],
            "metadata": {
                "azdata_cell_guid": "6d3e7684-175a-4245-983f-681735479b8b"
            }
        },
        {
            "cell_type": "markdown",
            "source": [
                "<center>\n",
                "    <img src=\"https://cf-courses-data.s3.us.cloud-object-storage.appdomain.cloud/IBM-DS0321EN-SkillsNetwork/labs/module_3/images/city.png\" />\n",
                "</center>\n"
            ],
            "metadata": {
                "azdata_cell_guid": "f1e82c87-a910-46d2-a1af-ce2a3b214a3c"
            }
        },
        {
            "cell_type": "code",
            "source": [
                "# Create a marker with distance to a closest city, railway, highway, etc.\n",
                "# Draw a line between the marker to the launch site\n"
            ],
            "metadata": {
                "azdata_cell_guid": "d362f347-d393-439b-8be0-243664373a61",
                "language": "python"
            },
            "outputs": [],
            "execution_count": null
        },
        {
            "cell_type": "code",
            "source": [],
            "metadata": {
                "azdata_cell_guid": "2eb332ae-e681-43a3-aa4c-206033664495",
                "language": "python"
            },
            "outputs": [],
            "execution_count": null
        },
        {
            "cell_type": "code",
            "source": [],
            "metadata": {
                "azdata_cell_guid": "8ea9306e-2002-49b2-ab1c-f4401977c025",
                "language": "python"
            },
            "outputs": [],
            "execution_count": null
        },
        {
            "cell_type": "markdown",
            "source": [
                "After you plot distance lines to the proximities, you can answer the following questions easily:\n",
                "\n",
                "*   Are launch sites in close proximity to railways?\n",
                "*   Are launch sites in close proximity to highways?\n",
                "*   Are launch sites in close proximity to coastline?\n",
                "*   Do launch sites keep certain distance away from cities?\n",
                "\n",
                "Also please try to explain your findings.\n"
            ],
            "metadata": {
                "azdata_cell_guid": "e0f65444-3af7-4015-8236-3f3277e82715"
            }
        },
        {
            "cell_type": "markdown",
            "source": [
                "# Next Steps:\n",
                "\n",
                "Now you have discovered many interesting insights related to the launch sites' location using folium, in a very interactive way. Next, you will need to build a dashboard using Ploty Dash on detailed launch records.\n"
            ],
            "metadata": {
                "azdata_cell_guid": "33330499-85b0-49c0-833f-950c5a922bbf"
            }
        },
        {
            "cell_type": "markdown",
            "source": [
                "## Authors\n"
            ],
            "metadata": {
                "azdata_cell_guid": "18a52c8b-037f-49c4-9452-126bc7308fff"
            }
        },
        {
            "cell_type": "markdown",
            "source": [
                "[Yan Luo](https://www.linkedin.com/in/yan-luo-96288783/?utm_medium=Exinfluencer&utm_source=Exinfluencer&utm_content=000026UJ&utm_term=10006555&utm_id=NA-SkillsNetwork-Channel-SkillsNetworkCoursesIBMDS0321ENSkillsNetwork26802033-2022-01-01)\n"
            ],
            "metadata": {
                "azdata_cell_guid": "2cc831d5-137b-4e33-b1f8-331d7f0c615f"
            }
        },
        {
            "cell_type": "markdown",
            "source": [
                "### Other Contributors\n"
            ],
            "metadata": {
                "azdata_cell_guid": "1d00f906-dd05-47bb-aad8-1409d510f39b"
            }
        },
        {
            "cell_type": "markdown",
            "source": [
                "Joseph Santarcangelo\n"
            ],
            "metadata": {
                "azdata_cell_guid": "e9b9cec2-e34c-4de4-9cab-e343347878d4"
            }
        },
        {
            "cell_type": "markdown",
            "source": [
                "## Change Log\n"
            ],
            "metadata": {
                "azdata_cell_guid": "14f021b4-f628-4f49-a5a3-90e303cf52ce"
            }
        },
        {
            "cell_type": "markdown",
            "source": [
                "| Date (YYYY-MM-DD) | Version | Changed By | Change Description          |\n",
                "| ----------------- | ------- | ---------- | --------------------------- |\n",
                "| 2021-05-26        | 1.0     | Yan        | Created the initial version |\n"
            ],
            "metadata": {
                "azdata_cell_guid": "957cfafe-3348-4bd4-a5c6-f3c40dd14e45"
            }
        },
        {
            "cell_type": "markdown",
            "source": [
                "Copyright © 2021 IBM Corporation. All rights reserved.\n"
            ],
            "metadata": {
                "azdata_cell_guid": "296cb761-38e7-4902-8b37-bbda713f75cd"
            }
        }
    ]
}